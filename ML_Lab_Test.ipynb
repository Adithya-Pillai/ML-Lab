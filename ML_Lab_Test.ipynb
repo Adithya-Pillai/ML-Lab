{
  "nbformat": 4,
  "nbformat_minor": 0,
  "metadata": {
    "colab": {
      "provenance": [],
      "collapsed_sections": [
        "BsXvs7fzNXgC",
        "8HhtUfkSRSqm",
        "alRrORCMT-GO"
      ]
    },
    "kernelspec": {
      "name": "python3",
      "display_name": "Python 3"
    },
    "language_info": {
      "name": "python"
    }
  },
  "cells": [
    {
      "cell_type": "markdown",
      "source": [
        "AdaBoost\n"
      ],
      "metadata": {
        "id": "MNqj-oumJcUj"
      }
    },
    {
      "cell_type": "code",
      "source": [
        "import pandas as pd\n",
        "from sklearn.model_selection import train_test_split\n",
        "from sklearn.feature_extraction.text import CountVectorizer\n",
        "from sklearn.metrics import accuracy_score, precision_score, recall_score, f1_score\n",
        "from sklearn.ensemble import AdaBoostClassifier\n",
        "# Read in our dataset\n",
        "df = pd.read_csv(\"/content/spam_ham_dataset.csv\")\n",
        "\n",
        "# Fix our response value\n",
        "df['label'] = df.label.map({'ham':0, 'spam':1})\n",
        "\n",
        "# Split our dataset into training and testing data\n",
        "X_train, X_test, y_train, y_test = train_test_split(df['text'],\n",
        "                                                    df['label'],\n",
        "                                                    random_state=1)\n",
        "\n",
        "# Instantiate the CountVectorizer method\n",
        "count_vector = CountVectorizer()\n",
        "\n",
        "# Fit the training data and then return the matrix\n",
        "training_data = count_vector.fit_transform(X_train)\n",
        "testing_data = count_vector.transform(X_test)\n",
        "adaboostModel = AdaBoostClassifier(n_estimators = 200)\n",
        "adaboostModel = adaboostModel.fit(training_data, y_train)\n",
        "preds = adaboostModel.predict(testing_data)\n",
        "print('Accuracy score: ', format(accuracy_score(y_test, preds)))\n",
        "print('Precision score: ', format(precision_score(y_test, preds)))\n",
        "print('Recall score: ', format(recall_score(y_test, preds)))\n",
        "print('F1 score: ', format(f1_score(y_test, preds)))\n"
      ],
      "metadata": {
        "colab": {
          "base_uri": "https://localhost:8080/"
        },
        "id": "Dz0Su7Z2vXSS",
        "outputId": "aa03f935-cc08-408d-d6d9-2d505a853236"
      },
      "execution_count": 27,
      "outputs": [
        {
          "output_type": "stream",
          "name": "stdout",
          "text": [
            "Accuracy score:  0.9474091260634184\n",
            "Precision score:  0.8936708860759494\n",
            "Recall score:  0.9313984168865436\n",
            "F1 score:  0.9121447028423773\n"
          ]
        }
      ]
    },
    {
      "cell_type": "markdown",
      "source": [
        "Decision Tree"
      ],
      "metadata": {
        "id": "SnuFw92QJa_z"
      }
    },
    {
      "cell_type": "code",
      "source": [
        "import pandas as pd\n",
        "from sklearn.model_selection import train_test_split\n",
        "from sklearn.feature_extraction.text import CountVectorizer\n",
        "from sklearn.metrics import accuracy_score, precision_score, recall_score, f1_score, confusion_matrix\n",
        "from sklearn.preprocessing import LabelEncoder\n",
        "from sklearn.tree import DecisionTreeClassifier\n",
        "import seaborn as sns\n",
        "import matplotlib.pyplot as plt\n",
        "\n",
        "# Read in our dataset\n",
        "df = pd.read_csv(\"/content/spam_ham_dataset.csv\")\n",
        "\n",
        "# Fix our response value\n",
        "df['label'] = df.label.map({'ham':0, 'spam':1})\n",
        "\n",
        "# Split our dataset into training and testing data\n",
        "X_train, X_test, y_train, y_test = train_test_split(df['text'],\n",
        "                                                    df['label'],\n",
        "                                                    random_state=1)\n",
        "\n",
        "# Instantiate the CountVectorizer method\n",
        "count_vector = CountVectorizer()\n",
        "\n",
        "# Fit the training data and then return the matrix\n",
        "training_data = count_vector.fit_transform(X_train)\n",
        "testing_data = count_vector.transform(X_test)\n",
        "\n",
        "# Initialize the Decision Tree Classifier with entropy as the criterion\n",
        "clf = DecisionTreeClassifier(criterion='entropy')\n",
        "\n",
        "# Train the classifier on the training data\n",
        "clf.fit(training_data, y_train)\n",
        "\n",
        "# Make predictions on the testing data\n",
        "preds = clf.predict(testing_data)\n",
        "\n",
        "print('Accuracy score: ', format(accuracy_score(y_test, preds)))\n",
        "print('Precision score: ', format(precision_score(y_test, preds)))\n",
        "print('Recall score: ', format(recall_score(y_test, preds)))\n",
        "print('F1 score: ', format(f1_score(y_test, preds)))\n",
        "\n",
        "cm = confusion_matrix(y_test, preds)\n",
        "print(\"\\nConfusion Matrix:\")\n",
        "print(cm)\n"
      ],
      "metadata": {
        "colab": {
          "base_uri": "https://localhost:8080/"
        },
        "id": "6SPOSoSvAFS_",
        "outputId": "a52c43f7-5344-4a9a-9baf-26fb0ef5c3c2"
      },
      "execution_count": 25,
      "outputs": [
        {
          "output_type": "stream",
          "name": "stdout",
          "text": [
            "Accuracy score:  0.9396751740139211\n",
            "Precision score:  0.8868894601542416\n",
            "Recall score:  0.9102902374670184\n",
            "F1 score:  0.8984375\n",
            "\n",
            "Confusion Matrix:\n",
            "[[870  44]\n",
            " [ 34 345]]\n"
          ]
        }
      ]
    },
    {
      "cell_type": "markdown",
      "source": [
        "CART\n"
      ],
      "metadata": {
        "id": "obj1HWJlJiL6"
      }
    },
    {
      "cell_type": "code",
      "source": [
        "import pandas as pd\n",
        "from sklearn.model_selection import train_test_split\n",
        "from sklearn.feature_extraction.text import CountVectorizer\n",
        "from sklearn.metrics import accuracy_score, precision_score, recall_score, f1_score, confusion_matrix\n",
        "from sklearn.preprocessing import LabelEncoder\n",
        "from sklearn.tree import DecisionTreeClassifier\n",
        "import seaborn as sns\n",
        "import matplotlib.pyplot as plt\n",
        "\n",
        "# Read in our dataset\n",
        "df = pd.read_csv(\"/content/spam_ham_dataset.csv\")\n",
        "\n",
        "# Fix our response value\n",
        "df['label'] = df.label.map({'ham':0, 'spam':1})\n",
        "\n",
        "# Split our dataset into training and testing data\n",
        "X_train, X_test, y_train, y_test = train_test_split(df['text'],\n",
        "                                                    df['label'],\n",
        "                                                    random_state=1)\n",
        "\n",
        "# Instantiate the CountVectorizer method\n",
        "count_vector = CountVectorizer()\n",
        "\n",
        "# Fit the training data and then return the matrix\n",
        "training_data = count_vector.fit_transform(X_train)\n",
        "testing_data = count_vector.transform(X_test)\n",
        "\n",
        "# Initialize the Decision Tree Classifier with entropy as the criterion\n",
        "clf = DecisionTreeClassifier(criterion='gini')\n",
        "\n",
        "# Train the classifier on the training data\n",
        "clf.fit(training_data, y_train)\n",
        "\n",
        "# Make predictions on the testing data\n",
        "preds = clf.predict(testing_data)\n",
        "\n",
        "print('Accuracy score: ', format(accuracy_score(y_test, preds)))\n",
        "print('Precision score: ', format(precision_score(y_test, preds)))\n",
        "print('Recall score: ', format(recall_score(y_test, preds)))\n",
        "print('F1 score: ', format(f1_score(y_test, preds)))\n"
      ],
      "metadata": {
        "colab": {
          "base_uri": "https://localhost:8080/"
        },
        "id": "WbrxGqOQDMhF",
        "outputId": "f10666c3-6217-4337-b073-e2305f7eea6d"
      },
      "execution_count": 36,
      "outputs": [
        {
          "output_type": "stream",
          "name": "stdout",
          "text": [
            "Accuracy score:  0.9450889404485692\n",
            "Precision score:  0.885\n",
            "Recall score:  0.9340369393139841\n",
            "F1 score:  0.9088575096277278\n"
          ]
        }
      ]
    }
  ]
}